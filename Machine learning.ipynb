{
 "cells": [
  {
   "cell_type": "code",
   "execution_count": 9,
   "metadata": {},
   "outputs": [
    {
     "name": "stdout",
     "output_type": "stream",
     "text": [
      "traning:\n",
      "   PassengerId  Survived  Pclass  \\\n",
      "0            1         0       3   \n",
      "1            2         1       1   \n",
      "2            3         1       3   \n",
      "3            4         1       1   \n",
      "4            5         0       3   \n",
      "\n",
      "                                                Name     Sex   Age  SibSp  \\\n",
      "0                            Braund, Mr. Owen Harris    male  22.0      1   \n",
      "1  Cumings, Mrs. John Bradley (Florence Briggs Th...  female  38.0      1   \n",
      "2                             Heikkinen, Miss. Laina  female  26.0      0   \n",
      "3       Futrelle, Mrs. Jacques Heath (Lily May Peel)  female  35.0      1   \n",
      "4                           Allen, Mr. William Henry    male  35.0      0   \n",
      "\n",
      "   Parch            Ticket     Fare Cabin Embarked  \n",
      "0      0         A/5 21171   7.2500   NaN        S  \n",
      "1      0          PC 17599  71.2833   C85        C  \n",
      "2      0  STON/O2. 3101282   7.9250   NaN        S  \n",
      "3      0            113803  53.1000  C123        S  \n",
      "4      0            373450   8.0500   NaN        S  \n",
      "testing:\n",
      "   PassengerId  Pclass                                          Name     Sex  \\\n",
      "0          892       3                              Kelly, Mr. James    male   \n",
      "1          893       3              Wilkes, Mrs. James (Ellen Needs)  female   \n",
      "2          894       2                     Myles, Mr. Thomas Francis    male   \n",
      "3          895       3                              Wirz, Mr. Albert    male   \n",
      "4          896       3  Hirvonen, Mrs. Alexander (Helga E Lindqvist)  female   \n",
      "\n",
      "    Age  SibSp  Parch   Ticket     Fare Cabin Embarked  \n",
      "0  34.5      0      0   330911   7.8292   NaN        Q  \n",
      "1  47.0      1      0   363272   7.0000   NaN        S  \n",
      "2  62.0      0      0   240276   9.6875   NaN        Q  \n",
      "3  27.0      0      0   315154   8.6625   NaN        S  \n",
      "4  22.0      1      1  3101298  12.2875   NaN        S  \n"
     ]
    }
   ],
   "source": [
    "#1 \n",
    "\n",
    "import pandas as pd\n",
    "import numpy as np\n",
    "\n",
    "train_df= pd.read_csv(r'C:/Users/asus/Desktop/titanic/train.csv')\n",
    "test_df = pd.read_csv(r'C:/Users/asus/Desktop/titanic/test.csv')\n",
    "print('traning:')\n",
    "print(train_df.head())\n",
    "print('testing:')\n",
    "print(test_df.head())\n",
    "\n",
    "\n"
   ]
  },
  {
   "cell_type": "code",
   "execution_count": 10,
   "metadata": {},
   "outputs": [
    {
     "name": "stdout",
     "output_type": "stream",
     "text": [
      "PassengerId      0\n",
      "Survived         0\n",
      "Pclass           0\n",
      "Name             0\n",
      "Sex              0\n",
      "Age            177\n",
      "SibSp            0\n",
      "Parch            0\n",
      "Ticket           0\n",
      "Fare             0\n",
      "Cabin          687\n",
      "Embarked         2\n",
      "dtype: int64\n"
     ]
    }
   ],
   "source": [
    "# Check for missing values\n",
    "print(train_df.isnull().sum())\n",
    "\n",
    "# Impute missing values in Age column with median\n",
    "train_df['Age'] = train_df['Age'].fillna(train_df['Age'].median())\n",
    "test_df['Age'] = test_df['Age'].fillna(test_df['Age'].median())"
   ]
  },
  {
   "cell_type": "code",
   "execution_count": 4,
   "metadata": {},
   "outputs": [
    {
     "name": "stdout",
     "output_type": "stream",
     "text": [
      "PassengerId    0\n",
      "Survived       0\n",
      "Pclass         0\n",
      "Name           0\n",
      "Sex            0\n",
      "Age            0\n",
      "SibSp          0\n",
      "Parch          0\n",
      "Ticket         0\n",
      "Fare           0\n",
      "Embarked       0\n",
      "dtype: int64\n"
     ]
    }
   ],
   "source": [
    "#2\n",
    "# Check for missing values\n",
    "print(train_df.isnull().sum())\n",
    "\n",
    "# Impute missing values in Age column with median\n",
    "train_df['Age'] = train_df['Age'].fillna(train_df['Age'].median())\n",
    "test_df['Age'] = test_df['Age'].fillna(test_df['Age'].median())"
   ]
  },
  {
   "cell_type": "code",
   "execution_count": 11,
   "metadata": {},
   "outputs": [
    {
     "name": "stdout",
     "output_type": "stream",
     "text": [
      "\n",
      " train dataset after update:\n",
      "PassengerId    0\n",
      "Survived       0\n",
      "Pclass         0\n",
      "Name           0\n",
      "Sex            0\n",
      "Age            0\n",
      "SibSp          0\n",
      "Parch          0\n",
      "Ticket         0\n",
      "Fare           0\n",
      "Embarked       0\n",
      "dtype: int64\n",
      "\n",
      " test dataset after update:\n",
      "PassengerId    0\n",
      "Pclass         0\n",
      "Name           0\n",
      "Sex            0\n",
      "Age            0\n",
      "SibSp          0\n",
      "Parch          0\n",
      "Ticket         0\n",
      "Fare           0\n",
      "Embarked       0\n",
      "dtype: int64\n"
     ]
    }
   ],
   "source": [
    "#2\n",
    "\n",
    "# Fill missing\n",
    "train_df['Age'] = train_df['Age'].fillna(train_df['Age'].median())\n",
    "\n",
    "train_df['Embarked'] = train_df['Embarked'].fillna(train_df['Embarked'].mode()[0])\n",
    "\n",
    "test_df['Age'] = test_df['Age'].fillna(test_df['Age'].median())\n",
    "\n",
    "test_df['Fare'] = test_df['Fare'].fillna(test_df['Fare'].median())\n",
    "\n",
    "if 'Cabin' in train_df.columns:\n",
    "    train_df.drop(columns=['Cabin'], inplace=True)\n",
    "\n",
    "\n",
    "if 'Cabin' in test.columns:\n",
    "    test_df.drop(columns=['Cabin'], inplace=True)\n",
    "\n",
    "\n",
    "print('\\n train dataset after update:')\n",
    "print(train_df.isnull().sum())\n",
    "\n",
    "print('\\n test dataset after update:')\n",
    "print(test_df.isnull().sum())\n"
   ]
  },
  {
   "cell_type": "code",
   "execution_count": 12,
   "metadata": {},
   "outputs": [
    {
     "name": "stdout",
     "output_type": "stream",
     "text": [
      "\n",
      " train dataset with normalized features:\n",
      "   PassengerId  Survived  Pclass  \\\n",
      "0            1         0       3   \n",
      "1            2         1       1   \n",
      "2            3         1       3   \n",
      "3            4         1       1   \n",
      "4            5         0       3   \n",
      "\n",
      "                                                Name     Sex       Age  SibSp  \\\n",
      "0                            Braund, Mr. Owen Harris    male  0.271174      1   \n",
      "1  Cumings, Mrs. John Bradley (Florence Briggs Th...  female  0.472229      1   \n",
      "2                             Heikkinen, Miss. Laina  female  0.321438      0   \n",
      "3       Futrelle, Mrs. Jacques Heath (Lily May Peel)  female  0.434531      1   \n",
      "4                           Allen, Mr. William Henry    male  0.434531      0   \n",
      "\n",
      "   Parch            Ticket      Fare Embarked  \n",
      "0      0         A/5 21171  0.014151        S  \n",
      "1      0          PC 17599  0.139136        C  \n",
      "2      0  STON/O2. 3101282  0.015469        S  \n",
      "3      0            113803  0.103644        S  \n",
      "4      0            373450  0.015713        S  \n",
      "\n",
      " test dataset with normalized features:\n",
      "   PassengerId  Pclass                                          Name     Sex  \\\n",
      "0          892       3                              Kelly, Mr. James    male   \n",
      "1          893       3              Wilkes, Mrs. James (Ellen Needs)  female   \n",
      "2          894       2                     Myles, Mr. Thomas Francis    male   \n",
      "3          895       3                              Wirz, Mr. Albert    male   \n",
      "4          896       3  Hirvonen, Mrs. Alexander (Helga E Lindqvist)  female   \n",
      "\n",
      "        Age  SibSp  Parch   Ticket      Fare Embarked  \n",
      "0  0.428248      0      0   330911  0.015282        Q  \n",
      "1  0.585323      1      0   363272  0.013663        S  \n",
      "2  0.773813      0      0   240276  0.018909        Q  \n",
      "3  0.334004      0      0   315154  0.016908        S  \n",
      "4  0.271174      1      1  3101298  0.023984        S  \n"
     ]
    }
   ],
   "source": [
    "\n",
    "from sklearn.preprocessing import MinMaxScaler\n",
    "\n",
    "# Select numerical columns for scaling\n",
    "colums = ['Age', 'Fare']\n",
    "\n",
    "scaler = MinMaxScaler()\n",
    "\n",
    "train_df[colums] = scaler.fit_transform(train_df[colums])\n",
    "\n",
    "\n",
    "test_df[colums] = scaler.transform(test_df[colums])\n",
    "\n",
    "\n",
    "print('\\n train dataset with normalized features:')\n",
    "print(train_df.head())\n",
    "\n",
    "print('\\n test dataset with normalized features:')\n",
    "print(test_df.head())"
   ]
  },
  {
   "cell_type": "code",
   "execution_count": 13,
   "metadata": {},
   "outputs": [
    {
     "name": "stdout",
     "output_type": "stream",
     "text": [
      "0\n"
     ]
    }
   ],
   "source": [
    "# Check for duplicate rows\n",
    "print(train_df.duplicated().sum())\n",
    "\n",
    "# Drop duplicate rows\n",
    "train_df = train_df.drop_duplicates()"
   ]
  },
  {
   "cell_type": "code",
   "execution_count": 14,
   "metadata": {},
   "outputs": [
    {
     "name": "stdout",
     "output_type": "stream",
     "text": [
      "\n",
      " train dataset with normalized features:\n",
      "   PassengerId  Survived  Pclass  \\\n",
      "0            1         0       3   \n",
      "1            2         1       1   \n",
      "2            3         1       3   \n",
      "3            4         1       1   \n",
      "4            5         0       3   \n",
      "\n",
      "                                                Name     Sex       Age  SibSp  \\\n",
      "0                            Braund, Mr. Owen Harris    male  0.271174      1   \n",
      "1  Cumings, Mrs. John Bradley (Florence Briggs Th...  female  0.472229      1   \n",
      "2                             Heikkinen, Miss. Laina  female  0.321438      0   \n",
      "3       Futrelle, Mrs. Jacques Heath (Lily May Peel)  female  0.434531      1   \n",
      "4                           Allen, Mr. William Henry    male  0.434531      0   \n",
      "\n",
      "   Parch            Ticket      Fare Embarked  \n",
      "0      0         A/5 21171  0.014151        S  \n",
      "1      0          PC 17599  0.139136        C  \n",
      "2      0  STON/O2. 3101282  0.015469        S  \n",
      "3      0            113803  0.103644        S  \n",
      "4      0            373450  0.015713        S  \n",
      "\n",
      " test dataset with normalized features:\n",
      "   PassengerId  Pclass                                          Name     Sex  \\\n",
      "0          892       3                              Kelly, Mr. James    male   \n",
      "1          893       3              Wilkes, Mrs. James (Ellen Needs)  female   \n",
      "2          894       2                     Myles, Mr. Thomas Francis    male   \n",
      "3          895       3                              Wirz, Mr. Albert    male   \n",
      "4          896       3  Hirvonen, Mrs. Alexander (Helga E Lindqvist)  female   \n",
      "\n",
      "        Age  SibSp  Parch   Ticket      Fare Embarked  \n",
      "0  0.428248      0      0   330911  0.015282        Q  \n",
      "1  0.585323      1      0   363272  0.013663        S  \n",
      "2  0.773813      0      0   240276  0.018909        Q  \n",
      "3  0.334004      0      0   315154  0.016908        S  \n",
      "4  0.271174      1      1  3101298  0.023984        S  \n"
     ]
    }
   ],
   "source": [
    "\n",
    "from sklearn.preprocessing import MinMaxScaler\n",
    "\n",
    "# Select numerical columns for scaling\n",
    "colums = ['Age', 'Fare']\n",
    "\n",
    "scaler = MinMaxScaler()\n",
    "\n",
    "train_df[colums] = scaler.fit_transform(train_df[colums])\n",
    "\n",
    "\n",
    "test_df[colums] = scaler.transform(test_df[colums])\n",
    "\n",
    "\n",
    "print('\\n train dataset with normalized features:')\n",
    "print(train_df.head())\n",
    "\n",
    "print('\\n test dataset with normalized features:')\n",
    "print(test_df.head())"
   ]
  },
  {
   "cell_type": "code",
   "execution_count": 17,
   "metadata": {},
   "outputs": [
    {
     "name": "stdout",
     "output_type": "stream",
     "text": [
      "   Survived  Pclass       Age  SibSp  Parch      Fare  Embarked_Q  Embarked_S  \\\n",
      "0         0       3  0.271174      1      0  0.014151       False        True   \n",
      "1         1       1  0.472229      1      0  0.139136       False       False   \n",
      "2         1       3  0.321438      0      0  0.015469       False        True   \n",
      "3         1       1  0.434531      1      0  0.103644       False        True   \n",
      "4         0       3  0.434531      0      0  0.015713       False        True   \n",
      "\n",
      "   Sex_male  \n",
      "0      True  \n",
      "1     False  \n",
      "2     False  \n",
      "3     False  \n",
      "4      True  \n",
      "   Survived  Pclass       Age  SibSp  Parch      Fare  Embarked_Q  Embarked_S  \\\n",
      "0         0       3  0.428248      0      0  0.015282        True       False   \n",
      "1         0       3  0.585323      1      0  0.013663       False        True   \n",
      "2         0       2  0.773813      0      0  0.018909        True       False   \n",
      "3         0       3  0.334004      0      0  0.016908       False        True   \n",
      "4         0       3  0.271174      1      1  0.023984       False        True   \n",
      "\n",
      "   Sex_male  \n",
      "0      True  \n",
      "1     False  \n",
      "2      True  \n",
      "3      True  \n",
      "4     False  \n"
     ]
    }
   ],
   "source": [
    "if 'Embarked' in train_df.columns and 'Sex' in train_df.columns:\n",
    "    train_df = pd.get_dummies(train_df, columns=['Embarked', 'Sex'], drop_first=True)\n",
    "if 'Embarked' in test_df.columns and 'Sex' in test_df.columns:\n",
    "    test_df = pd.get_dummies(test_df, columns=['Embarked', 'Sex'], drop_first=True)\n",
    "\n",
    "# Align the train and test DataFrames to ensure they have the same columns after one-hot encoding\n",
    "train_df, test_df = train_df.align(test_df, join='left', axis=1, fill_value=0)\n",
    "\n",
    "# Drop 'Name', 'Ticket', and 'PassengerId' as they are not useful for the model\n",
    "if 'Name' in train.columns:\n",
    "    train_df.drop(columns=['Name', 'Ticket', 'PassengerId'], inplace=True)\n",
    "if 'Name' in test.columns:\n",
    "    test_df.drop(columns=['Name', 'Ticket', 'PassengerId'], inplace=True)\n",
    "\n",
    "# Display the updated DataFrame\n",
    "print(train_df.head())\n",
    "print(test_df.head())"
   ]
  },
  {
   "cell_type": "code",
   "execution_count": 18,
   "metadata": {},
   "outputs": [
    {
     "name": "stdout",
     "output_type": "stream",
     "text": [
      " Precision: 0.7587301587301587, Recall: 0.6988304093567251\n",
      "Precision: 0.9821428571428571, Recall: 0.9649122807017544\n"
     ]
    }
   ],
   "source": [
    "from sklearn.linear_model import LogisticRegression\n",
    "from sklearn.metrics import precision_score, recall_score\n",
    "\n",
    "from sklearn.ensemble import RandomForestClassifier\n",
    "\n",
    "X_train = train_df.drop(columns=['Survived'])\n",
    "y_train = train_df['Survived']\n",
    "\n",
    "\n",
    "logreg = LogisticRegression()\n",
    "logreg.fit(X_train, y_train)\n",
    "\n",
    "y_pred_train = logreg.predict(X_train)\n",
    "\n",
    "precision = precision_score(y_train, y_pred_train)\n",
    "recall = recall_score(y_train, y_pred_train)\n",
    "print(f\" Precision: {precision}, Recall: {recall}\")\n",
    "\n",
    "\n",
    "# Initialize \n",
    "rfc = RandomForestClassifier()\n",
    "rfc.fit(X_train, y_train)\n",
    "\n",
    "y_pred_train_rfc =rfc.predict(X_train)\n",
    "\n",
    "# Calculate precision and recall\n",
    "precision_rfc = precision_score(y_train, y_pred_train_rfc)\n",
    "recall_rfc = recall_score(y_train, y_pred_train_rfc)\n",
    "print(f\"Precision: {precision_rfc}, Recall: {recall_rfc}\")\n"
   ]
  },
  {
   "cell_type": "code",
   "execution_count": 19,
   "metadata": {},
   "outputs": [
    {
     "name": "stdout",
     "output_type": "stream",
     "text": [
      "Random Forest is the best model\n"
     ]
    }
   ],
   "source": [
    "#4 \n",
    "if precision_rfc > precision and recall_rfc > recall:\n",
    "    best_model = rfc\n",
    "    print(\"Random Forest is the best model\")\n",
    "else:\n",
    "    best_model = logreg\n",
    "    print(\"Logistic Regression is the best model.\")\n"
   ]
  },
  {
   "cell_type": "code",
   "execution_count": 21,
   "metadata": {},
   "outputs": [
    {
     "name": "stderr",
     "output_type": "stream",
     "text": [
      "C:\\Users\\asus\\AppData\\Local\\Packages\\PythonSoftwareFoundation.Python.3.11_qbz5n2kfra8p0\\LocalCache\\local-packages\\Python311\\site-packages\\sklearn\\model_selection\\_validation.py:540: FitFailedWarning: \n",
      "150 fits failed out of a total of 450.\n",
      "The score on these train-test partitions for these parameters will be set to nan.\n",
      "If these failures are not expected, you can try to debug them by setting error_score='raise'.\n",
      "\n",
      "Below are more details about the failures:\n",
      "--------------------------------------------------------------------------------\n",
      "150 fits failed with the following error:\n",
      "Traceback (most recent call last):\n",
      "  File \"C:\\Users\\asus\\AppData\\Local\\Packages\\PythonSoftwareFoundation.Python.3.11_qbz5n2kfra8p0\\LocalCache\\local-packages\\Python311\\site-packages\\sklearn\\model_selection\\_validation.py\", line 888, in _fit_and_score\n",
      "    estimator.fit(X_train, y_train, **fit_params)\n",
      "  File \"C:\\Users\\asus\\AppData\\Local\\Packages\\PythonSoftwareFoundation.Python.3.11_qbz5n2kfra8p0\\LocalCache\\local-packages\\Python311\\site-packages\\sklearn\\base.py\", line 1466, in wrapper\n",
      "    estimator._validate_params()\n",
      "  File \"C:\\Users\\asus\\AppData\\Local\\Packages\\PythonSoftwareFoundation.Python.3.11_qbz5n2kfra8p0\\LocalCache\\local-packages\\Python311\\site-packages\\sklearn\\base.py\", line 666, in _validate_params\n",
      "    validate_parameter_constraints(\n",
      "  File \"C:\\Users\\asus\\AppData\\Local\\Packages\\PythonSoftwareFoundation.Python.3.11_qbz5n2kfra8p0\\LocalCache\\local-packages\\Python311\\site-packages\\sklearn\\utils\\_param_validation.py\", line 95, in validate_parameter_constraints\n",
      "    raise InvalidParameterError(\n",
      "sklearn.utils._param_validation.InvalidParameterError: The 'max_features' parameter of RandomForestClassifier must be an int in the range [1, inf), a float in the range (0.0, 1.0], a str among {'sqrt', 'log2'} or None. Got 'auto' instead.\n",
      "\n",
      "  warnings.warn(some_fits_failed_message, FitFailedWarning)\n",
      "C:\\Users\\asus\\AppData\\Local\\Packages\\PythonSoftwareFoundation.Python.3.11_qbz5n2kfra8p0\\LocalCache\\local-packages\\Python311\\site-packages\\sklearn\\model_selection\\_search.py:1052: UserWarning: One or more of the test scores are non-finite: [       nan        nan        nan 0.86243717 0.84032108 0.84144804\n",
      " 0.84349362 0.81541513 0.83615979        nan        nan        nan\n",
      " 0.83588099 0.84290119 0.8458747  0.82920878 0.829724   0.83662793\n",
      "        nan        nan        nan 0.81906502 0.84189033 0.83850716\n",
      " 0.83494624 0.83477047 0.83798942        nan        nan        nan\n",
      " 0.8316776  0.82145139 0.83140787 0.80845757 0.82086534 0.83848163\n",
      "        nan        nan        nan 0.80471921 0.82737859 0.82012495\n",
      " 0.81906351 0.83179119 0.83144696        nan        nan        nan\n",
      " 0.8455084  0.86073062 0.86386014 0.84513549 0.84505491 0.84177077\n",
      "        nan        nan        nan 0.85716311 0.84407727 0.83696364\n",
      " 0.83335882 0.8409133  0.84420919        nan        nan        nan\n",
      " 0.82066937 0.84319175 0.84896694 0.82555556 0.83082365 0.82914445\n",
      "        nan        nan        nan 0.81674211 0.8204739  0.82433908\n",
      " 0.83348766 0.8284835  0.82647924        nan        nan        nan\n",
      " 0.82664365 0.81749121 0.8324942  0.8100877  0.83105545 0.82483575]\n",
      "  warnings.warn(\n"
     ]
    },
    {
     "name": "stdout",
     "output_type": "stream",
     "text": [
      "Best parameters: {'criterion': 'entropy', 'max_depth': 4, 'max_features': 'sqrt', 'n_estimators': 300}\n"
     ]
    }
   ],
   "source": [
    "#5\n",
    "#Hyperparameter Tuning\n",
    "from sklearn.model_selection import GridSearchCV\n",
    "param_grid = {\n",
    "    'n_estimators': [100, 200, 300],\n",
    "    'max_features': ['auto', 'sqrt', 'log2'],\n",
    "    'max_depth': [4, 5, 6, 7, 8],\n",
    "    'criterion': ['gini', 'entropy']\n",
    "}\n",
    "grid_search = GridSearchCV(estimator=best_model, param_grid=param_grid, cv=5, scoring='precision')\n",
    "\n",
    "grid_search.fit(X_train, y_train)\n",
    "\n",
    "print(f\"Best parameters: {grid_search.best_params_}\")"
   ]
  }
 ],
 "metadata": {
  "language_info": {
   "name": "python"
  }
 },
 "nbformat": 4,
 "nbformat_minor": 2
}
